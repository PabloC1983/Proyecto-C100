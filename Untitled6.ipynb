{
  "nbformat": 4,
  "nbformat_minor": 0,
  "metadata": {
    "colab": {
      "provenance": [],
      "authorship_tag": "ABX9TyMJ0HH2isWtVMnwuEVYhYdY",
      "include_colab_link": true
    },
    "kernelspec": {
      "name": "python3",
      "display_name": "Python 3"
    },
    "language_info": {
      "name": "python"
    }
  },
  "cells": [
    {
      "cell_type": "markdown",
      "metadata": {
        "id": "view-in-github",
        "colab_type": "text"
      },
      "source": [
        "<a href=\"https://colab.research.google.com/github/PabloC1983/Proyecto-C100/blob/main/Untitled6.ipynb\" target=\"_parent\"><img src=\"https://colab.research.google.com/assets/colab-badge.svg\" alt=\"Open In Colab\"/></a>"
      ]
    },
    {
      "cell_type": "code",
      "execution_count": null,
      "metadata": {
        "id": "Gs2qyaSuWeCw"
      },
      "outputs": [],
      "source": [
        "class MovieReview:\n",
        "  def __init__(self, pelicula, historia, actor, musica):\n",
        "    self.movie_name=pelicula\n",
        "    self.history_rating=historia\n",
        "    self.actor_rating=actor\n",
        "    self.music_rating=musica\n",
        "    self.avg=int((self.story_rating+self.actor_rating+self.music_rating)/3)\n",
        "    self.my_rating={\n",
        "        \"pelicula\":self.movie_name,\n",
        "        \"historia\":self.history_rating,\n",
        "        \"actor\":self.actor_rating,\n",
        "        \"musica\":self.music_rating,\n",
        "        \"calificaciones\":self.avg\n",
        "    }\n",
        "  def add_movie_ratings(self,movie_list):\n",
        "    movie_list.append(self.my_rating)\n",
        "\n",
        "  def avg_star_ratings(self, movie_list):\n",
        "     for movie in movie_list:\n",
        "      if(movie[\"Promedio de las calificaciones\"] == 1 ):\n",
        "        print(\"Gracias por la respuesta, calificaste la película con   *\")\n",
        "        print(movie)\n",
        "\n",
        "      elif(movie[\"Promedio de las calificaciones\"] == 2 ):\n",
        "        print(\"Gracias por la respuesta, calificaste la película con   * * \")\n",
        "        print(movie)\n",
        "\n",
        "      elif(movie[\"Promedio de las calificaciones\"] == 3 ):\n",
        "        print(\"Gracias por la respuesta, calificaste la película con   * * *\")\n",
        "        print(movie)\n",
        "\n",
        "      elif(movie[\"Promedio de las calificaciones\"] == 4 ):\n",
        "        print(\"Gracias por la respuesta, calificaste la película con   * * * *\")\n",
        "        print(movie)\n",
        "\n",
        "      if(movie[\"Promedio de las calificaciones\"] == 5 ):\n",
        "        print(\"Gracias por la respuesta, calificaste la película con   * * * * *\")\n",
        "        print(movie)"
      ]
    },
    {
      "cell_type": "code",
      "source": [
        "moviereviews = []"
      ],
      "metadata": {
        "id": "6Vkh4b_oYsQy"
      },
      "execution_count": null,
      "outputs": []
    },
    {
      "cell_type": "code",
      "source": [
        "review1 = MovieReview (\"Buena vida\", 1, 1, 3)\n",
        "review1.add_movie_ratings(moviereviews)\n",
        "review1.avg_star_ratings(moviereviews)"
      ],
      "metadata": {
        "colab": {
          "base_uri": "https://localhost:8080/",
          "height": 329
        },
        "id": "GVkVnUgyY4N5",
        "outputId": "7c80ec28-479f-416a-af23-4e7050d96262"
      },
      "execution_count": null,
      "outputs": [
        {
          "output_type": "error",
          "ename": "AttributeError",
          "evalue": "ignored",
          "traceback": [
            "\u001b[0;31m---------------------------------------------------------------------------\u001b[0m",
            "\u001b[0;31mAttributeError\u001b[0m                            Traceback (most recent call last)",
            "\u001b[0;32m<ipython-input-31-b03ddcf1c82e>\u001b[0m in \u001b[0;36m<module>\u001b[0;34m\u001b[0m\n\u001b[0;32m----> 1\u001b[0;31m \u001b[0mreview1\u001b[0m \u001b[0;34m=\u001b[0m \u001b[0mMovieReview\u001b[0m \u001b[0;34m(\u001b[0m\u001b[0;34m\"Buena vida\"\u001b[0m\u001b[0;34m,\u001b[0m \u001b[0;36m1\u001b[0m\u001b[0;34m,\u001b[0m \u001b[0;36m1\u001b[0m\u001b[0;34m,\u001b[0m \u001b[0;36m3\u001b[0m\u001b[0;34m)\u001b[0m\u001b[0;34m\u001b[0m\u001b[0;34m\u001b[0m\u001b[0m\n\u001b[0m\u001b[1;32m      2\u001b[0m \u001b[0mreview1\u001b[0m\u001b[0;34m.\u001b[0m\u001b[0madd_movie_ratings\u001b[0m\u001b[0;34m(\u001b[0m\u001b[0mmoviereviews\u001b[0m\u001b[0;34m)\u001b[0m\u001b[0;34m\u001b[0m\u001b[0;34m\u001b[0m\u001b[0m\n\u001b[1;32m      3\u001b[0m \u001b[0mreview1\u001b[0m\u001b[0;34m.\u001b[0m\u001b[0mavg_star_ratings\u001b[0m\u001b[0;34m(\u001b[0m\u001b[0mmoviereviews\u001b[0m\u001b[0;34m)\u001b[0m\u001b[0;34m\u001b[0m\u001b[0;34m\u001b[0m\u001b[0m\n",
            "\u001b[0;32m<ipython-input-29-2ecfb01ce2e1>\u001b[0m in \u001b[0;36m__init__\u001b[0;34m(self, pelicula, historia, actor, musica)\u001b[0m\n\u001b[1;32m      5\u001b[0m     \u001b[0mself\u001b[0m\u001b[0;34m.\u001b[0m\u001b[0mactor_rating\u001b[0m\u001b[0;34m=\u001b[0m\u001b[0mactor\u001b[0m\u001b[0;34m\u001b[0m\u001b[0;34m\u001b[0m\u001b[0m\n\u001b[1;32m      6\u001b[0m     \u001b[0mself\u001b[0m\u001b[0;34m.\u001b[0m\u001b[0mmusic_rating\u001b[0m\u001b[0;34m=\u001b[0m\u001b[0mmusica\u001b[0m\u001b[0;34m\u001b[0m\u001b[0;34m\u001b[0m\u001b[0m\n\u001b[0;32m----> 7\u001b[0;31m     \u001b[0mself\u001b[0m\u001b[0;34m.\u001b[0m\u001b[0mavg\u001b[0m\u001b[0;34m=\u001b[0m\u001b[0mint\u001b[0m\u001b[0;34m(\u001b[0m\u001b[0;34m(\u001b[0m\u001b[0mself\u001b[0m\u001b[0;34m.\u001b[0m\u001b[0mstory_rating\u001b[0m\u001b[0;34m+\u001b[0m\u001b[0mself\u001b[0m\u001b[0;34m.\u001b[0m\u001b[0mactor_rating\u001b[0m\u001b[0;34m+\u001b[0m\u001b[0mself\u001b[0m\u001b[0;34m.\u001b[0m\u001b[0mmusic_rating\u001b[0m\u001b[0;34m)\u001b[0m\u001b[0;34m/\u001b[0m\u001b[0;36m3\u001b[0m\u001b[0;34m)\u001b[0m\u001b[0;34m\u001b[0m\u001b[0;34m\u001b[0m\u001b[0m\n\u001b[0m\u001b[1;32m      8\u001b[0m     self.my_rating={\n\u001b[1;32m      9\u001b[0m         \u001b[0;34m\"pelicula\"\u001b[0m\u001b[0;34m:\u001b[0m\u001b[0mself\u001b[0m\u001b[0;34m.\u001b[0m\u001b[0mmovie_name\u001b[0m\u001b[0;34m,\u001b[0m\u001b[0;34m\u001b[0m\u001b[0;34m\u001b[0m\u001b[0m\n",
            "\u001b[0;31mAttributeError\u001b[0m: 'MovieReview' object has no attribute 'story_rating'"
          ]
        }
      ]
    },
    {
      "cell_type": "code",
      "source": [
        "review2 = MovieReview(\"Sonido maravilloso\", 5, 5, 5)\n",
        "review2.add_movie_ratings(moviereviews)\n",
        "review2.avg_star_ratings(moviereviews)"
      ],
      "metadata": {
        "colab": {
          "base_uri": "https://localhost:8080/",
          "height": 329
        },
        "id": "8XW87vT5beIo",
        "outputId": "cc5c71ed-c5ce-40d8-e25f-51c3202095e2"
      },
      "execution_count": null,
      "outputs": [
        {
          "output_type": "error",
          "ename": "AttributeError",
          "evalue": "ignored",
          "traceback": [
            "\u001b[0;31m---------------------------------------------------------------------------\u001b[0m",
            "\u001b[0;31mAttributeError\u001b[0m                            Traceback (most recent call last)",
            "\u001b[0;32m<ipython-input-27-3699e6e21d28>\u001b[0m in \u001b[0;36m<module>\u001b[0;34m\u001b[0m\n\u001b[0;32m----> 1\u001b[0;31m \u001b[0mreview2\u001b[0m \u001b[0;34m=\u001b[0m \u001b[0mMovieReview\u001b[0m\u001b[0;34m(\u001b[0m\u001b[0;34m\"Sonido maravilloso\"\u001b[0m\u001b[0;34m,\u001b[0m \u001b[0;36m5\u001b[0m\u001b[0;34m,\u001b[0m \u001b[0;36m5\u001b[0m\u001b[0;34m,\u001b[0m \u001b[0;36m5\u001b[0m\u001b[0;34m)\u001b[0m\u001b[0;34m\u001b[0m\u001b[0;34m\u001b[0m\u001b[0m\n\u001b[0m\u001b[1;32m      2\u001b[0m \u001b[0mreview2\u001b[0m\u001b[0;34m.\u001b[0m\u001b[0madd_movie_ratings\u001b[0m\u001b[0;34m(\u001b[0m\u001b[0mmoviereviews\u001b[0m\u001b[0;34m)\u001b[0m\u001b[0;34m\u001b[0m\u001b[0;34m\u001b[0m\u001b[0m\n\u001b[1;32m      3\u001b[0m \u001b[0mreview2\u001b[0m\u001b[0;34m.\u001b[0m\u001b[0mavg_star_ratings\u001b[0m\u001b[0;34m(\u001b[0m\u001b[0mmoviereviews\u001b[0m\u001b[0;34m)\u001b[0m\u001b[0;34m\u001b[0m\u001b[0;34m\u001b[0m\u001b[0m\n",
            "\u001b[0;32m<ipython-input-25-2ecfb01ce2e1>\u001b[0m in \u001b[0;36m__init__\u001b[0;34m(self, pelicula, historia, actor, musica)\u001b[0m\n\u001b[1;32m      5\u001b[0m     \u001b[0mself\u001b[0m\u001b[0;34m.\u001b[0m\u001b[0mactor_rating\u001b[0m\u001b[0;34m=\u001b[0m\u001b[0mactor\u001b[0m\u001b[0;34m\u001b[0m\u001b[0;34m\u001b[0m\u001b[0m\n\u001b[1;32m      6\u001b[0m     \u001b[0mself\u001b[0m\u001b[0;34m.\u001b[0m\u001b[0mmusic_rating\u001b[0m\u001b[0;34m=\u001b[0m\u001b[0mmusica\u001b[0m\u001b[0;34m\u001b[0m\u001b[0;34m\u001b[0m\u001b[0m\n\u001b[0;32m----> 7\u001b[0;31m     \u001b[0mself\u001b[0m\u001b[0;34m.\u001b[0m\u001b[0mavg\u001b[0m\u001b[0;34m=\u001b[0m\u001b[0mint\u001b[0m\u001b[0;34m(\u001b[0m\u001b[0;34m(\u001b[0m\u001b[0mself\u001b[0m\u001b[0;34m.\u001b[0m\u001b[0mstory_rating\u001b[0m\u001b[0;34m+\u001b[0m\u001b[0mself\u001b[0m\u001b[0;34m.\u001b[0m\u001b[0mactor_rating\u001b[0m\u001b[0;34m+\u001b[0m\u001b[0mself\u001b[0m\u001b[0;34m.\u001b[0m\u001b[0mmusic_rating\u001b[0m\u001b[0;34m)\u001b[0m\u001b[0;34m/\u001b[0m\u001b[0;36m3\u001b[0m\u001b[0;34m)\u001b[0m\u001b[0;34m\u001b[0m\u001b[0;34m\u001b[0m\u001b[0m\n\u001b[0m\u001b[1;32m      8\u001b[0m     self.my_rating={\n\u001b[1;32m      9\u001b[0m         \u001b[0;34m\"pelicula\"\u001b[0m\u001b[0;34m:\u001b[0m\u001b[0mself\u001b[0m\u001b[0;34m.\u001b[0m\u001b[0mmovie_name\u001b[0m\u001b[0;34m,\u001b[0m\u001b[0;34m\u001b[0m\u001b[0;34m\u001b[0m\u001b[0m\n",
            "\u001b[0;31mAttributeError\u001b[0m: 'MovieReview' object has no attribute 'story_rating'"
          ]
        }
      ]
    }
  ]
}